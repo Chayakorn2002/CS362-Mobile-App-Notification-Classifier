{
 "cells": [
  {
   "cell_type": "code",
   "execution_count": 385,
   "metadata": {},
   "outputs": [],
   "source": [
    "import pandas as pd\n",
    "import numpy as np\n",
    "from sklearn.model_selection import train_test_split\n",
    "from sklearn.preprocessing import LabelEncoder\n",
    "import matplotlib.pyplot as plt\n",
    "import re\n",
    "import pythainlp\n",
    "import pickle"
   ]
  },
  {
   "cell_type": "markdown",
   "metadata": {},
   "source": [
    "# Data Cleaning"
   ]
  },
  {
   "cell_type": "code",
   "execution_count": 386,
   "metadata": {},
   "outputs": [
    {
     "name": "stdout",
     "output_type": "stream",
     "text": [
      "Dimension of dataset\n",
      " (1130, 2) \n",
      "\n",
      "     label                                            content\n",
      "0      ham  คนขับส่งอาหารเรียบร้อยแล้ว ดูใบเสร็จรับเงิน ขอ...\n",
      "1      ham  หมายเลข: 09116240327514498 อยู่ในสถานะ 'เสร็จส...\n",
      "2      ham  หมายเลข: 09116240327514498 พนักงานกำลังน้ำ สิน...\n",
      "3      ham  7-Delivery: เนื่องจากขณะนี้มีออเดอร์เป็นจำนวนม...\n",
      "4      ham  หมายเลข: 09116240327514498 อยู่ในสถานะ 'จัดของ...\n",
      "...    ...                                                ...\n",
      "1125  spam  เที่ยงคืน แจกอีก5,000.- เก็บด่วน! ช้อปดีลเด็ด ...\n",
      "1126  spam         4.4 มาแล้ว! ลดโหด โค้ด 50% วันนี้วันเดียว!\n",
      "1127  spam                        โค้ดลด 50% 9 โมง » เก็บด่วน\n",
      "1128  spam  Shopee Live! watch cintage.official's live: co...\n",
      "1129  spam                      โค้ดเด็ด! 4.4 ลด 50% ถึงตีสอง\n",
      "\n",
      "[1130 rows x 2 columns]\n"
     ]
    }
   ],
   "source": [
    "noti_dataset = pd.read_csv('mobile_app_notifications.csv')\n",
    "print(\"Dimension of dataset\\n\", noti_dataset.shape, \"\\n\")\n",
    "print(noti_dataset)"
   ]
  },
  {
   "cell_type": "code",
   "execution_count": 387,
   "metadata": {},
   "outputs": [
    {
     "name": "stdout",
     "output_type": "stream",
     "text": [
      "      label                                            content\n",
      "0         0  คนขับส่งอาหารเรียบร้อยแล้ว ดูใบเสร็จรับเงิน ขอ...\n",
      "1         0  หมายเลข: 09116240327514498 อยู่ในสถานะ 'เสร็จส...\n",
      "2         0  หมายเลข: 09116240327514498 พนักงานกำลังน้ำ สิน...\n",
      "3         0  7-Delivery: เนื่องจากขณะนี้มีออเดอร์เป็นจำนวนม...\n",
      "4         0  หมายเลข: 09116240327514498 อยู่ในสถานะ 'จัดของ...\n",
      "...     ...                                                ...\n",
      "1125      1  เที่ยงคืน แจกอีก5,000.- เก็บด่วน! ช้อปดีลเด็ด ...\n",
      "1126      1         4.4 มาแล้ว! ลดโหด โค้ด 50% วันนี้วันเดียว!\n",
      "1127      1                        โค้ดลด 50% 9 โมง » เก็บด่วน\n",
      "1128      1  Shopee Live! watch cintage.official's live: co...\n",
      "1129      1                      โค้ดเด็ด! 4.4 ลด 50% ถึงตีสอง\n",
      "\n",
      "[1130 rows x 2 columns]\n"
     ]
    }
   ],
   "source": [
    "encoder = LabelEncoder() # Encode label to integer (0, 1)\n",
    "noti_dataset['label'] = encoder.fit_transform(noti_dataset['label']) # Encode label to integer \n",
    "print(noti_dataset) # Show dataset after encoding"
   ]
  },
  {
   "cell_type": "code",
   "execution_count": 388,
   "metadata": {},
   "outputs": [
    {
     "data": {
      "text/html": [
       "<div>\n",
       "<style scoped>\n",
       "    .dataframe tbody tr th:only-of-type {\n",
       "        vertical-align: middle;\n",
       "    }\n",
       "\n",
       "    .dataframe tbody tr th {\n",
       "        vertical-align: top;\n",
       "    }\n",
       "\n",
       "    .dataframe thead th {\n",
       "        text-align: right;\n",
       "    }\n",
       "</style>\n",
       "<table border=\"1\" class=\"dataframe\">\n",
       "  <thead>\n",
       "    <tr style=\"text-align: right;\">\n",
       "      <th></th>\n",
       "      <th>label</th>\n",
       "      <th>content</th>\n",
       "    </tr>\n",
       "  </thead>\n",
       "  <tbody>\n",
       "    <tr>\n",
       "      <th>0</th>\n",
       "      <td>0</td>\n",
       "      <td>คนขับส่งอาหารเรียบร้อยแล้ว ดูใบเสร็จรับเงิน ขอ...</td>\n",
       "    </tr>\n",
       "    <tr>\n",
       "      <th>1</th>\n",
       "      <td>0</td>\n",
       "      <td>หมายเลข: 09116240327514498 อยู่ในสถานะ 'เสร็จส...</td>\n",
       "    </tr>\n",
       "    <tr>\n",
       "      <th>2</th>\n",
       "      <td>0</td>\n",
       "      <td>หมายเลข: 09116240327514498 พนักงานกำลังน้ำ สิน...</td>\n",
       "    </tr>\n",
       "    <tr>\n",
       "      <th>3</th>\n",
       "      <td>0</td>\n",
       "      <td>7-Delivery: เนื่องจากขณะนี้มีออเดอร์เป็นจำนวนม...</td>\n",
       "    </tr>\n",
       "    <tr>\n",
       "      <th>4</th>\n",
       "      <td>0</td>\n",
       "      <td>หมายเลข: 09116240327514498 อยู่ในสถานะ 'จัดของ...</td>\n",
       "    </tr>\n",
       "    <tr>\n",
       "      <th>...</th>\n",
       "      <td>...</td>\n",
       "      <td>...</td>\n",
       "    </tr>\n",
       "    <tr>\n",
       "      <th>1125</th>\n",
       "      <td>1</td>\n",
       "      <td>เที่ยงคืน แจกอีก5,000.- เก็บด่วน! ช้อปดีลเด็ด ...</td>\n",
       "    </tr>\n",
       "    <tr>\n",
       "      <th>1126</th>\n",
       "      <td>1</td>\n",
       "      <td>4.4 มาแล้ว! ลดโหด โค้ด 50% วันนี้วันเดียว!</td>\n",
       "    </tr>\n",
       "    <tr>\n",
       "      <th>1127</th>\n",
       "      <td>1</td>\n",
       "      <td>โค้ดลด 50% 9 โมง » เก็บด่วน</td>\n",
       "    </tr>\n",
       "    <tr>\n",
       "      <th>1128</th>\n",
       "      <td>1</td>\n",
       "      <td>Shopee Live! watch cintage.official's live: co...</td>\n",
       "    </tr>\n",
       "    <tr>\n",
       "      <th>1129</th>\n",
       "      <td>1</td>\n",
       "      <td>โค้ดเด็ด! 4.4 ลด 50% ถึงตีสอง</td>\n",
       "    </tr>\n",
       "  </tbody>\n",
       "</table>\n",
       "<p>1130 rows × 2 columns</p>\n",
       "</div>"
      ],
      "text/plain": [
       "      label                                            content\n",
       "0         0  คนขับส่งอาหารเรียบร้อยแล้ว ดูใบเสร็จรับเงิน ขอ...\n",
       "1         0  หมายเลข: 09116240327514498 อยู่ในสถานะ 'เสร็จส...\n",
       "2         0  หมายเลข: 09116240327514498 พนักงานกำลังน้ำ สิน...\n",
       "3         0  7-Delivery: เนื่องจากขณะนี้มีออเดอร์เป็นจำนวนม...\n",
       "4         0  หมายเลข: 09116240327514498 อยู่ในสถานะ 'จัดของ...\n",
       "...     ...                                                ...\n",
       "1125      1  เที่ยงคืน แจกอีก5,000.- เก็บด่วน! ช้อปดีลเด็ด ...\n",
       "1126      1         4.4 มาแล้ว! ลดโหด โค้ด 50% วันนี้วันเดียว!\n",
       "1127      1                        โค้ดลด 50% 9 โมง » เก็บด่วน\n",
       "1128      1  Shopee Live! watch cintage.official's live: co...\n",
       "1129      1                      โค้ดเด็ด! 4.4 ลด 50% ถึงตีสอง\n",
       "\n",
       "[1130 rows x 2 columns]"
      ]
     },
     "execution_count": 388,
     "metadata": {},
     "output_type": "execute_result"
    }
   ],
   "source": [
    "noti_dataset"
   ]
  },
  {
   "cell_type": "code",
   "execution_count": 389,
   "metadata": {},
   "outputs": [
    {
     "name": "stdout",
     "output_type": "stream",
     "text": [
      "missing values : \n",
      " label      0\n",
      "content    0\n",
      "dtype: int64 \n",
      "\n",
      "duplicated values:  74\n"
     ]
    }
   ],
   "source": [
    "print(\"missing values : \\n\", noti_dataset.isnull().sum(), \"\\n\") # check missing values\n",
    "print(\"duplicated values: \", noti_dataset.duplicated().sum()) # check duplicated values"
   ]
  },
  {
   "cell_type": "code",
   "execution_count": 390,
   "metadata": {},
   "outputs": [
    {
     "name": "stdout",
     "output_type": "stream",
     "text": [
      "duplicated values:  0\n",
      "Dimension of dataset:  (1056, 2) \n",
      "\n"
     ]
    },
    {
     "data": {
      "text/html": [
       "<div>\n",
       "<style scoped>\n",
       "    .dataframe tbody tr th:only-of-type {\n",
       "        vertical-align: middle;\n",
       "    }\n",
       "\n",
       "    .dataframe tbody tr th {\n",
       "        vertical-align: top;\n",
       "    }\n",
       "\n",
       "    .dataframe thead th {\n",
       "        text-align: right;\n",
       "    }\n",
       "</style>\n",
       "<table border=\"1\" class=\"dataframe\">\n",
       "  <thead>\n",
       "    <tr style=\"text-align: right;\">\n",
       "      <th></th>\n",
       "      <th>label</th>\n",
       "      <th>content</th>\n",
       "    </tr>\n",
       "  </thead>\n",
       "  <tbody>\n",
       "    <tr>\n",
       "      <th>0</th>\n",
       "      <td>0</td>\n",
       "      <td>คนขับส่งอาหารเรียบร้อยแล้ว ดูใบเสร็จรับเงิน ขอ...</td>\n",
       "    </tr>\n",
       "    <tr>\n",
       "      <th>1</th>\n",
       "      <td>0</td>\n",
       "      <td>หมายเลข: 09116240327514498 อยู่ในสถานะ 'เสร็จส...</td>\n",
       "    </tr>\n",
       "    <tr>\n",
       "      <th>2</th>\n",
       "      <td>0</td>\n",
       "      <td>หมายเลข: 09116240327514498 พนักงานกำลังน้ำ สิน...</td>\n",
       "    </tr>\n",
       "    <tr>\n",
       "      <th>3</th>\n",
       "      <td>0</td>\n",
       "      <td>7-Delivery: เนื่องจากขณะนี้มีออเดอร์เป็นจำนวนม...</td>\n",
       "    </tr>\n",
       "    <tr>\n",
       "      <th>4</th>\n",
       "      <td>0</td>\n",
       "      <td>หมายเลข: 09116240327514498 อยู่ในสถานะ 'จัดของ...</td>\n",
       "    </tr>\n",
       "    <tr>\n",
       "      <th>...</th>\n",
       "      <td>...</td>\n",
       "      <td>...</td>\n",
       "    </tr>\n",
       "    <tr>\n",
       "      <th>1051</th>\n",
       "      <td>1</td>\n",
       "      <td>เที่ยงคืน แจกอีก5,000.- เก็บด่วน! ช้อปดีลเด็ด ...</td>\n",
       "    </tr>\n",
       "    <tr>\n",
       "      <th>1052</th>\n",
       "      <td>1</td>\n",
       "      <td>4.4 มาแล้ว! ลดโหด โค้ด 50% วันนี้วันเดียว!</td>\n",
       "    </tr>\n",
       "    <tr>\n",
       "      <th>1053</th>\n",
       "      <td>1</td>\n",
       "      <td>โค้ดลด 50% 9 โมง » เก็บด่วน</td>\n",
       "    </tr>\n",
       "    <tr>\n",
       "      <th>1054</th>\n",
       "      <td>1</td>\n",
       "      <td>Shopee Live! watch cintage.official's live: co...</td>\n",
       "    </tr>\n",
       "    <tr>\n",
       "      <th>1055</th>\n",
       "      <td>1</td>\n",
       "      <td>โค้ดเด็ด! 4.4 ลด 50% ถึงตีสอง</td>\n",
       "    </tr>\n",
       "  </tbody>\n",
       "</table>\n",
       "<p>1056 rows × 2 columns</p>\n",
       "</div>"
      ],
      "text/plain": [
       "      label                                            content\n",
       "0         0  คนขับส่งอาหารเรียบร้อยแล้ว ดูใบเสร็จรับเงิน ขอ...\n",
       "1         0  หมายเลข: 09116240327514498 อยู่ในสถานะ 'เสร็จส...\n",
       "2         0  หมายเลข: 09116240327514498 พนักงานกำลังน้ำ สิน...\n",
       "3         0  7-Delivery: เนื่องจากขณะนี้มีออเดอร์เป็นจำนวนม...\n",
       "4         0  หมายเลข: 09116240327514498 อยู่ในสถานะ 'จัดของ...\n",
       "...     ...                                                ...\n",
       "1051      1  เที่ยงคืน แจกอีก5,000.- เก็บด่วน! ช้อปดีลเด็ด ...\n",
       "1052      1         4.4 มาแล้ว! ลดโหด โค้ด 50% วันนี้วันเดียว!\n",
       "1053      1                        โค้ดลด 50% 9 โมง » เก็บด่วน\n",
       "1054      1  Shopee Live! watch cintage.official's live: co...\n",
       "1055      1                      โค้ดเด็ด! 4.4 ลด 50% ถึงตีสอง\n",
       "\n",
       "[1056 rows x 2 columns]"
      ]
     },
     "execution_count": 390,
     "metadata": {},
     "output_type": "execute_result"
    }
   ],
   "source": [
    "noti_dataset = noti_dataset.drop_duplicates(keep=\"first\")\n",
    "noti_dataset = noti_dataset.reset_index(drop=True)\n",
    "print(\"duplicated values: \", noti_dataset.duplicated().sum())\n",
    "print(\"Dimension of dataset: \", noti_dataset.shape, \"\\n\")\n",
    "noti_dataset"
   ]
  },
  {
   "cell_type": "markdown",
   "metadata": {},
   "source": [
    "# Analysis"
   ]
  },
  {
   "cell_type": "code",
   "execution_count": 391,
   "metadata": {},
   "outputs": [
    {
     "name": "stdout",
     "output_type": "stream",
     "text": [
      "Distribution of the dataset\n",
      " label\n",
      "1    0.74053\n",
      "0    0.25947\n",
      "Name: proportion, dtype: float64\n"
     ]
    }
   ],
   "source": [
    "print(\"Distribution of the dataset\\n\", noti_dataset['label'].value_counts(normalize=True))"
   ]
  },
  {
   "cell_type": "code",
   "execution_count": 392,
   "metadata": {},
   "outputs": [
    {
     "data": {
      "image/png": "[encoded data removed]",
      "text/plain": [
       "<Figure size 640x480 with 1 Axes>"
      ]
     },
     "metadata": {},
     "output_type": "display_data"
    }
   ],
   "source": [
    "plt.pie(noti_dataset['label'].value_counts(), labels=['spam','ham'],autopct=\"%0.2f\")\n",
    "plt.show()"
   ]
  },
  {
   "cell_type": "markdown",
   "metadata": {},
   "source": [
    "# Data Preprocessing"
   ]
  },
  {
   "cell_type": "code",
   "execution_count": 393,
   "metadata": {},
   "outputs": [],
   "source": [
    "def removeAcronym(string: str, mapping_file: str) -> str:\n",
    "    # Read mappings from the mapping file\n",
    "    mappings = {}\n",
    "    with open(mapping_file, 'r', encoding='utf-8') as f:\n",
    "        for line in f:\n",
    "            key, value = line.strip().split(',')\n",
    "            mappings[key] = value\n",
    "    \n",
    "    # Tokenize the string\n",
    "    tokens = pythainlp.word_tokenize(string)\n",
    "    \n",
    "    # Swap strings based on mappings\n",
    "    for i, token in enumerate(tokens):\n",
    "        if token.lower() in mappings:\n",
    "            tokens[i] = mappings[token.lower()]\n",
    "        # Extra case for มีนาคม\n",
    "        if token == \"มี\" and tokens[i+1] == \".\" and tokens[i+2] == \"ค\" and tokens[i+3] == \".\":\n",
    "            tokens[i] = \"มีนาคม\"\n",
    "            for j in range(3):\n",
    "                tokens.pop(i+1)\n",
    "    \n",
    "    modified_text = ''.join(tokens)\n",
    "    return modified_text\n",
    "\n",
    "monthList = ['มกราคม', 'กุมภาพันธ์', 'มีนาคม', 'เมษายน', 'พฤษภาคม', 'มิถุนายน', 'กรกฎาคม', 'สิงหาคม', 'กันยายน', 'ตุลาคม', 'พฤศจิกายน', 'ธันวาคม']\n",
    "\n",
    "def dateSubstitute(string: str) -> str:\n",
    "    tokens = pythainlp.word_tokenize(string)\n",
    "    i = 0\n",
    "    while i < len(tokens):\n",
    "        if tokens[i].isdigit() and i + 2 < len(tokens) and tokens[i + 2] in monthList:\n",
    "            tokens[i] = \"date\"\n",
    "            if i + 4 < len(tokens):\n",
    "                tokens.pop(i + 4)\n",
    "            tokens.pop(i + 2)\n",
    "        i += 1\n",
    "    modified_text = ''.join(tokens)\n",
    "    return modified_text\n",
    "\n",
    "custom_stopwords_list = [\"ส่ง\", \"ให้\", \"อยู่\", \"ได้รับ\"]\n",
    "\n",
    "def removeStopWord(string: str) -> str:\n",
    "    tokens = pythainlp.word_tokenize(string)\n",
    "    thai_stopwords = pythainlp.corpus.thai_stopwords()\n",
    "    custom_stopwords = [word for word in thai_stopwords if word not in custom_stopwords_list]\n",
    "    \n",
    "    filtered_tokens = [token for token in tokens if token not in custom_stopwords]\n",
    "    modified_text = ''.join(filtered_tokens)\n",
    "    return modified_text"
   ]
  },
  {
   "cell_type": "code",
   "execution_count": 394,
   "metadata": {},
   "outputs": [
    {
     "name": "stdout",
     "output_type": "stream",
     "text": [
      "Original sample:  โค้ดพิเศษ สำหรับคุณ! ลดเพิ่ม 250.- สำหรับลูกค้าใหม่ Ray-Ban TH Official Store © เมื่อช้อปในวันที่ 3 เม.ย. 67 นี้ วันเดียวเท่านั้น! ใช้โค้ดเลย\n",
      "Transformed sample:  โค้ดพิเศษสำหรับลด250สำหรับลูกค้าraybanthofficialstoreช้อปวันที่dateโค้ด\n"
     ]
    }
   ],
   "source": [
    "def transformContent(string: str) -> str:\n",
    "    cleanedString = removeAcronym(string, 'acronyms.txt') # Remove acronym\n",
    "    cleanedString = dateSubstitute(cleanedString) # Date Substitution\n",
    "    cleanedString = re.sub(r'[^\\u0E00-\\u0E7F\\w]', '', cleanedString) # Remove non-Thai / alphanumeric characters using unicode range\n",
    "    cleanedString = cleanedString.lower()\n",
    "    cleanedString = removeStopWord(cleanedString) # Remove stop words\n",
    "    return cleanedString    \n",
    "\n",
    "sample = \"โค้ดพิเศษ สำหรับคุณ! ลดเพิ่ม 250.- สำหรับลูกค้าใหม่ Ray-Ban TH Official Store © เมื่อช้อปในวันที่ 3 เม.ย. 67 นี้ วันเดียวเท่านั้น! ใช้โค้ดเลย\"\n",
    "\n",
    "print(\"Original sample: \", sample)\n",
    "print(\"Transformed sample: \", transformContent(sample))"
   ]
  },
  {
   "cell_type": "code",
   "execution_count": 395,
   "metadata": {},
   "outputs": [
    {
     "data": {
      "text/html": [
       "<div>\n",
       "<style scoped>\n",
       "    .dataframe tbody tr th:only-of-type {\n",
       "        vertical-align: middle;\n",
       "    }\n",
       "\n",
       "    .dataframe tbody tr th {\n",
       "        vertical-align: top;\n",
       "    }\n",
       "\n",
       "    .dataframe thead th {\n",
       "        text-align: right;\n",
       "    }\n",
       "</style>\n",
       "<table border=\"1\" class=\"dataframe\">\n",
       "  <thead>\n",
       "    <tr style=\"text-align: right;\">\n",
       "      <th></th>\n",
       "      <th>label</th>\n",
       "      <th>content</th>\n",
       "      <th>transformed_content</th>\n",
       "    </tr>\n",
       "  </thead>\n",
       "  <tbody>\n",
       "    <tr>\n",
       "      <th>0</th>\n",
       "      <td>0</td>\n",
       "      <td>คนขับส่งอาหารเรียบร้อยแล้ว ดูใบเสร็จรับเงิน ขอ...</td>\n",
       "      <td>คนขับส่งอาหารเรียบร้อยดูใบเสร็จรับเงินหมายเลขส...</td>\n",
       "    </tr>\n",
       "    <tr>\n",
       "      <th>1</th>\n",
       "      <td>0</td>\n",
       "      <td>หมายเลข: 09116240327514498 อยู่ในสถานะ 'เสร็จส...</td>\n",
       "      <td>หมายเลข09116240327514498อยู่สถานะสมบูรณ์date15...</td>\n",
       "    </tr>\n",
       "    <tr>\n",
       "      <th>2</th>\n",
       "      <td>0</td>\n",
       "      <td>หมายเลข: 09116240327514498 พนักงานกำลังน้ำ สิน...</td>\n",
       "      <td>หมายเลข09116240327514498พนักงานน้ำสินค้าส่งกรุ...</td>\n",
       "    </tr>\n",
       "    <tr>\n",
       "      <th>3</th>\n",
       "      <td>0</td>\n",
       "      <td>7-Delivery: เนื่องจากขณะนี้มีออเดอร์เป็นจำนวนม...</td>\n",
       "      <td>7deliveryออเดอร์จำนวนมากพนักงานดำเนินการจัดส่ง...</td>\n",
       "    </tr>\n",
       "    <tr>\n",
       "      <th>4</th>\n",
       "      <td>0</td>\n",
       "      <td>หมายเลข: 09116240327514498 อยู่ในสถานะ 'จัดของ...</td>\n",
       "      <td>หมายเลข09116240327514498อยู่สถานะdate1428นาฬิกา</td>\n",
       "    </tr>\n",
       "    <tr>\n",
       "      <th>...</th>\n",
       "      <td>...</td>\n",
       "      <td>...</td>\n",
       "      <td>...</td>\n",
       "    </tr>\n",
       "    <tr>\n",
       "      <th>1051</th>\n",
       "      <td>1</td>\n",
       "      <td>เที่ยงคืน แจกอีก5,000.- เก็บด่วน! ช้อปดีลเด็ด ...</td>\n",
       "      <td>เที่ยงคืนแจก5000ด่วนช้อปดีลเด็ด44จำกัดเวลาตี2</td>\n",
       "    </tr>\n",
       "    <tr>\n",
       "      <th>1052</th>\n",
       "      <td>1</td>\n",
       "      <td>4.4 มาแล้ว! ลดโหด โค้ด 50% วันนี้วันเดียว!</td>\n",
       "      <td>44ลดโหดโค้ด50</td>\n",
       "    </tr>\n",
       "    <tr>\n",
       "      <th>1053</th>\n",
       "      <td>1</td>\n",
       "      <td>โค้ดลด 50% 9 โมง » เก็บด่วน</td>\n",
       "      <td>โค้ดลด509โมงด่วน</td>\n",
       "    </tr>\n",
       "    <tr>\n",
       "      <th>1054</th>\n",
       "      <td>1</td>\n",
       "      <td>Shopee Live! watch cintage.official's live: co...</td>\n",
       "      <td>shopeelivewatchcintageofficialslivecode50200บา...</td>\n",
       "    </tr>\n",
       "    <tr>\n",
       "      <th>1055</th>\n",
       "      <td>1</td>\n",
       "      <td>โค้ดเด็ด! 4.4 ลด 50% ถึงตีสอง</td>\n",
       "      <td>โค้ดเด็ด44ลด50ตีสอง</td>\n",
       "    </tr>\n",
       "  </tbody>\n",
       "</table>\n",
       "<p>1056 rows × 3 columns</p>\n",
       "</div>"
      ],
      "text/plain": [
       "      label                                            content  \\\n",
       "0         0  คนขับส่งอาหารเรียบร้อยแล้ว ดูใบเสร็จรับเงิน ขอ...   \n",
       "1         0  หมายเลข: 09116240327514498 อยู่ในสถานะ 'เสร็จส...   \n",
       "2         0  หมายเลข: 09116240327514498 พนักงานกำลังน้ำ สิน...   \n",
       "3         0  7-Delivery: เนื่องจากขณะนี้มีออเดอร์เป็นจำนวนม...   \n",
       "4         0  หมายเลข: 09116240327514498 อยู่ในสถานะ 'จัดของ...   \n",
       "...     ...                                                ...   \n",
       "1051      1  เที่ยงคืน แจกอีก5,000.- เก็บด่วน! ช้อปดีลเด็ด ...   \n",
       "1052      1         4.4 มาแล้ว! ลดโหด โค้ด 50% วันนี้วันเดียว!   \n",
       "1053      1                        โค้ดลด 50% 9 โมง » เก็บด่วน   \n",
       "1054      1  Shopee Live! watch cintage.official's live: co...   \n",
       "1055      1                      โค้ดเด็ด! 4.4 ลด 50% ถึงตีสอง   \n",
       "\n",
       "                                    transformed_content  \n",
       "0     คนขับส่งอาหารเรียบร้อยดูใบเสร็จรับเงินหมายเลขส...  \n",
       "1     หมายเลข09116240327514498อยู่สถานะสมบูรณ์date15...  \n",
       "2     หมายเลข09116240327514498พนักงานน้ำสินค้าส่งกรุ...  \n",
       "3     7deliveryออเดอร์จำนวนมากพนักงานดำเนินการจัดส่ง...  \n",
       "4       หมายเลข09116240327514498อยู่สถานะdate1428นาฬิกา  \n",
       "...                                                 ...  \n",
       "1051      เที่ยงคืนแจก5000ด่วนช้อปดีลเด็ด44จำกัดเวลาตี2  \n",
       "1052                                      44ลดโหดโค้ด50  \n",
       "1053                                   โค้ดลด509โมงด่วน  \n",
       "1054  shopeelivewatchcintageofficialslivecode50200บา...  \n",
       "1055                                โค้ดเด็ด44ลด50ตีสอง  \n",
       "\n",
       "[1056 rows x 3 columns]"
      ]
     },
     "execution_count": 395,
     "metadata": {},
     "output_type": "execute_result"
    }
   ],
   "source": [
    "noti_dataset['transformed_content'] = noti_dataset['content'].apply(transformContent)\n",
    "noti_dataset"
   ]
  },
  {
   "cell_type": "markdown",
   "metadata": {},
   "source": [
    "# Model Building"
   ]
  },
  {
   "cell_type": "code",
   "execution_count": 396,
   "metadata": {},
   "outputs": [],
   "source": [
    "class MultinomialNaiveBayes:\n",
    "    def __init__(self):\n",
    "        self.class_prior = None # P(y)\n",
    "        self.feature_prob = None # P(x|y)\n",
    "        self.classes = None # Unique classes\n",
    "    \n",
    "    def fit(self, X, y):\n",
    "        \"\"\"\n",
    "        Prior : P(y) = count(y) / count(Y) [ Y = all samples, y = specific class ]\n",
    "        Likelihood : P(x|y) = count(x, y) + 1 / count(y) + |X| [ X = all features, x = specific feature ]\n",
    "        \"\"\"\n",
    "        self.classes = np.unique(y)\n",
    "        self.class_prior = np.zeros(len(self.classes)) \n",
    "        self.feature_prob = np.zeros((len(self.classes), X.shape[1])) # \n",
    "\n",
    "        for i, c in enumerate(self.classes): #  \n",
    "            X_c = X[y == c] # Get samples with class c\n",
    "            self.class_prior[i] = X_c.shape[0] / X.shape[0] # P(y) = count(y) / count(Y)\n",
    "            self.feature_prob[i] = (np.sum(X_c, axis=0) + 1) / (np.sum(X_c) + X.shape[1]) # P(x|y) = count(x, y) + 1 / count(y) + |X|\n",
    "\n",
    "    def predict_proba(self, X):\n",
    "        \"\"\"\n",
    "        Calculate the posterior probability for each class given the input features X.\n",
    "        \n",
    "        Parameters:\n",
    "        - X: Input features, shape (n_samples, n_features)\n",
    "        \n",
    "        Returns:\n",
    "        - posterior probabilities: Probability of each class for each sample in X, shape (n_classes, n_samples)\n",
    "        \"\"\"\n",
    "        # Compute the logarithm of the likelihood of each feature given each class, then transpose the result\n",
    "        log_likelihood = np.log(self.feature_prob + 1e-9) @ X.T  # log(P(x|y)) * X (dot product [ @ : matrix multiplication ])\n",
    "        \n",
    "        # Add the logarithm of the prior probability of each class to the likelihood\n",
    "        log_likelihood += np.log(self.class_prior.reshape(-1, 1))\n",
    "        \n",
    "        # Normalize the log-likelihoods by subtracting the maximum log-likelihood value to avoid numerical instability\n",
    "        log_likelihood -= np.max(log_likelihood, axis=0)\n",
    "        \n",
    "        # Exponentiate the normalized log-likelihoods to get the likelihoods \n",
    "        likelihood = np.exp(log_likelihood)\n",
    "        return likelihood / np.sum(likelihood, axis=0) # Normalize the likelihoods to get the posterior probabilities\n",
    "\n",
    "\n",
    "    def predict(self, X):\n",
    "        \"\"\"\n",
    "        Predict the class with the highest probability by finding the argmax of the posterior probability.\n",
    "        \"\"\"\n",
    "        return np.argmax(self.predict_proba(X), axis=0)\n",
    "    \n",
    "    def accuracy_score(self, y_true, y_pred):\n",
    "        correct_predictions = np.sum(y_true == y_pred)\n",
    "        total_samples = len(y_true)\n",
    "        accuracy = correct_predictions / total_samples\n",
    "        return accuracy\n",
    "    \n",
    "    def precision_score(self, y_true, y_pred, pos_label=0):\n",
    "        true_positives = np.sum((y_true == pos_label) & (y_pred == pos_label))\n",
    "        predicted_positives = np.sum(y_pred == pos_label)\n",
    "        precision = true_positives / predicted_positives if predicted_positives > 0 else 0\n",
    "        return precision"
   ]
  },
  {
   "cell_type": "code",
   "execution_count": 397,
   "metadata": {},
   "outputs": [
    {
     "data": {
      "text/plain": [
       "((844, 2000), (212, 2000), (844,), (212,))"
      ]
     },
     "execution_count": 397,
     "metadata": {},
     "output_type": "execute_result"
    }
   ],
   "source": [
    "from sklearn.model_selection import train_test_split\n",
    "from sklearn.naive_bayes import MultinomialNB\n",
    "from sklearn.metrics import accuracy_score, confusion_matrix, precision_score\n",
    "from sklearn.feature_extraction.text import TfidfVectorizer\n",
    "\n",
    "tfidf = TfidfVectorizer(max_features=2000)\n",
    "X = tfidf.fit_transform(noti_dataset['transformed_content']).toarray()\n",
    "y = noti_dataset['label'].values\n",
    "\n",
    "X_train, X_test, y_train, y_test = train_test_split(X, y, test_size=0.2, random_state=2)\n",
    "X_train.shape, X_test.shape, y_train.shape, y_test.shape"
   ]
  },
  {
   "cell_type": "code",
   "execution_count": 398,
   "metadata": {},
   "outputs": [],
   "source": [
    "h = MultinomialNaiveBayes()\n",
    "h.fit(X_train, y_train)"
   ]
  },
  {
   "cell_type": "code",
   "execution_count": 399,
   "metadata": {},
   "outputs": [
    {
     "name": "stdout",
     "output_type": "stream",
     "text": [
      "Predicted probabilities:\n",
      " [[0.22666385 0.04031933 0.21926707 0.20262568 0.04715    0.2268433\n",
      "  0.0564256  0.17601829 0.138397   0.29091143 0.95518561 0.25829384\n",
      "  0.46929911 0.04181404 0.2666036  0.21929756 0.32730478 0.06337197\n",
      "  0.19769893 0.99192857 0.07169822 0.11658678 0.25829384 0.08482238\n",
      "  0.2895178  0.25829384 0.21902888 0.18376095 0.01891869 0.10620595\n",
      "  0.1610086  0.34223399 0.16282389 0.03659082 0.15782154 0.08493406\n",
      "  0.04682046 0.29651464 0.04682046 0.24909945 0.00887355 0.04571912\n",
      "  0.22132397 0.01314311 0.06824228 0.26895801 0.91240972 0.9557779\n",
      "  0.96395976 0.2921214  0.99468722 0.98403729 0.14465102 0.15607295\n",
      "  0.04506278 0.99468722 0.1266217  0.25974145 0.91240972 0.42427685\n",
      "  0.46461765 0.06810924 0.12146003 0.58586491 0.14324167 0.15288597\n",
      "  0.14957602 0.20616262 0.98403729 0.68531546 0.09684749 0.70488776\n",
      "  0.25829384 0.103861   0.03160781 0.15912518 0.95608558 0.07233964\n",
      "  0.18119652 0.96395976 0.58586491 0.13161901 0.33719371 0.25236193\n",
      "  0.07928662 0.9689072  0.10094301 0.45673641 0.11208239 0.18402992\n",
      "  0.20018165 0.09203584 0.86382518 0.71598277 0.05693869 0.06337197\n",
      "  0.01314311 0.08290348 0.37212886 0.05177318 0.04094053 0.9675769\n",
      "  0.25829384 0.9689072  0.06435886 0.95761461 0.12467259 0.34223399\n",
      "  0.85584355 0.31627333 0.23568086 0.09731739 0.25829384 0.9693616\n",
      "  0.83616382 0.05929274 0.38707861 0.21314109 0.14394029 0.66304051\n",
      "  0.25829384 0.09767805 0.09297584 0.47194774 0.11850971 0.1153665\n",
      "  0.01314311 0.16710326 0.12559688 0.09228603 0.38844708 0.08002754\n",
      "  0.07198985 0.0984174  0.28018716 0.06246837 0.14167974 0.08580233\n",
      "  0.1136735  0.02695102 0.11023488 0.06497862 0.12254692 0.9689072\n",
      "  0.27165092 0.34500496 0.02041319 0.95641855 0.05570125 0.05700071\n",
      "  0.95641855 0.9689072  0.05161337 0.02325059 0.13400622 0.05791685\n",
      "  0.172041   0.04750437 0.59581864 0.06708516 0.10555564 0.08908222\n",
      "  0.02531507 0.05194164 0.31627333 0.23514632 0.28051215 0.76676829\n",
      "  0.22524275 0.11799527 0.07567528 0.27380527 0.85584355 0.1837921\n",
      "  0.99468722 0.99192857 0.19518395 0.85584355 0.70328256 0.1106215\n",
      "  0.00887355 0.2803928  0.31860259 0.03077499 0.23916369 0.18581921\n",
      "  0.77775429 0.25829384 0.13810428 0.07912123 0.04046713 0.12887785\n",
      "  0.12387083 0.13456817 0.25829384 0.95518561 0.05779056 0.06078594\n",
      "  0.12159951 0.12226226 0.93869483 0.35351522 0.62131546 0.06324528\n",
      "  0.11448767 0.11630458 0.04678506 0.24151269 0.17639304 0.16621863\n",
      "  0.09606913 0.9689072 ]\n",
      " [0.77333615 0.95968067 0.78073293 0.79737432 0.95285    0.7731567\n",
      "  0.9435744  0.82398171 0.861603   0.70908857 0.04481439 0.74170616\n",
      "  0.53070089 0.95818596 0.7333964  0.78070244 0.67269522 0.93662803\n",
      "  0.80230107 0.00807143 0.92830178 0.88341322 0.74170616 0.91517762\n",
      "  0.7104822  0.74170616 0.78097112 0.81623905 0.98108131 0.89379405\n",
      "  0.8389914  0.65776601 0.83717611 0.96340918 0.84217846 0.91506594\n",
      "  0.95317954 0.70348536 0.95317954 0.75090055 0.99112645 0.95428088\n",
      "  0.77867603 0.98685689 0.93175772 0.73104199 0.08759028 0.0442221\n",
      "  0.03604024 0.7078786  0.00531278 0.01596271 0.85534898 0.84392705\n",
      "  0.95493722 0.00531278 0.8733783  0.74025855 0.08759028 0.57572315\n",
      "  0.53538235 0.93189076 0.87853997 0.41413509 0.85675833 0.84711403\n",
      "  0.85042398 0.79383738 0.01596271 0.31468454 0.90315251 0.29511224\n",
      "  0.74170616 0.896139   0.96839219 0.84087482 0.04391442 0.92766036\n",
      "  0.81880348 0.03604024 0.41413509 0.86838099 0.66280629 0.74763807\n",
      "  0.92071338 0.0310928  0.89905699 0.54326359 0.88791761 0.81597008\n",
      "  0.79981835 0.90796416 0.13617482 0.28401723 0.94306131 0.93662803\n",
      "  0.98685689 0.91709652 0.62787114 0.94822682 0.95905947 0.0324231\n",
      "  0.74170616 0.0310928  0.93564114 0.04238539 0.87532741 0.65776601\n",
      "  0.14415645 0.68372667 0.76431914 0.90268261 0.74170616 0.0306384\n",
      "  0.16383618 0.94070726 0.61292139 0.78685891 0.85605971 0.33695949\n",
      "  0.74170616 0.90232195 0.90702416 0.52805226 0.88149029 0.8846335\n",
      "  0.98685689 0.83289674 0.87440312 0.90771397 0.61155292 0.91997246\n",
      "  0.92801015 0.9015826  0.71981284 0.93753163 0.85832026 0.91419767\n",
      "  0.8863265  0.97304898 0.88976512 0.93502138 0.87745308 0.0310928\n",
      "  0.72834908 0.65499504 0.97958681 0.04358145 0.94429875 0.94299929\n",
      "  0.04358145 0.0310928  0.94838663 0.97674941 0.86599378 0.94208315\n",
      "  0.827959   0.95249563 0.40418136 0.93291484 0.89444436 0.91091778\n",
      "  0.97468493 0.94805836 0.68372667 0.76485368 0.71948785 0.23323171\n",
      "  0.77475725 0.88200473 0.92432472 0.72619473 0.14415645 0.8162079\n",
      "  0.00531278 0.00807143 0.80481605 0.14415645 0.29671744 0.8893785\n",
      "  0.99112645 0.7196072  0.68139741 0.96922501 0.76083631 0.81418079\n",
      "  0.22224571 0.74170616 0.86189572 0.92087877 0.95953287 0.87112215\n",
      "  0.87612917 0.86543183 0.74170616 0.04481439 0.94220944 0.93921406\n",
      "  0.87840049 0.87773774 0.06130517 0.64648478 0.37868454 0.93675472\n",
      "  0.88551233 0.88369542 0.95321494 0.75848731 0.82360696 0.83378137\n",
      "  0.90393087 0.0310928 ]]\n"
     ]
    }
   ],
   "source": [
    "proba = h.predict_proba(X_test)\n",
    "print(\"Predicted probabilities:\\n\", proba)"
   ]
  },
  {
   "cell_type": "code",
   "execution_count": 400,
   "metadata": {},
   "outputs": [
    {
     "name": "stdout",
     "output_type": "stream",
     "text": [
      "Predicted classes: [1 1 1 1 1 1 1 1 1 1 0 1 1 1 1 1 1 1 1 0 1 1 1 1 1 1 1 1 1 1 1 1 1 1 1 1 1\n",
      " 1 1 1 1 1 1 1 1 1 0 0 0 1 0 0 1 1 1 0 1 1 0 1 1 1 1 0 1 1 1 1 0 0 1 0 1 1\n",
      " 1 1 0 1 1 0 0 1 1 1 1 0 1 1 1 1 1 1 0 0 1 1 1 1 1 1 1 0 1 0 1 0 1 1 0 1 1\n",
      " 1 1 0 0 1 1 1 1 0 1 1 1 1 1 1 1 1 1 1 1 1 1 1 1 1 1 1 1 1 1 1 1 0 1 1 1 0\n",
      " 1 1 0 0 1 1 1 1 1 1 0 1 1 1 1 1 1 1 1 0 1 1 1 1 0 1 0 0 1 0 0 1 1 1 1 1 1\n",
      " 1 0 1 1 1 1 1 1 1 1 0 1 1 1 1 0 1 0 1 1 1 1 1 1 1 1 0]\n"
     ]
    }
   ],
   "source": [
    "predictions = h.predict(X_test)\n",
    "print(\"Predicted classes:\", predictions)"
   ]
  },
  {
   "cell_type": "code",
   "execution_count": 401,
   "metadata": {},
   "outputs": [
    {
     "name": "stdout",
     "output_type": "stream",
     "text": [
      "Accuracy score: 0.9339622641509434\n",
      "Precision score: 0.9176470588235294\n"
     ]
    }
   ],
   "source": [
    "# Calculate accuracy score\n",
    "accuracy = accuracy_score(y_test, predictions)\n",
    "print(\"Accuracy score:\", accuracy)\n",
    "\n",
    "# Calculate precision score for class 1\n",
    "precision_score = precision_score(y_test, predictions)\n",
    "print(\"Precision score:\", precision_score) "
   ]
  },
  {
   "cell_type": "code",
   "execution_count": 402,
   "metadata": {},
   "outputs": [],
   "source": [
    "import pickle\n",
    "pickle.dump(tfidf, open('tfidf.pkl','wb'))\n",
    "pickle.dump(h, open('model.pkl','wb'))"
   ]
  },
  {
   "cell_type": "code",
   "execution_count": 403,
   "metadata": {},
   "outputs": [],
   "source": [
    "import pickle\n",
    "tfidf = pickle.load(open('tfidf.pkl','rb'))\n",
    "model = pickle.load(open('model.pkl','rb'))"
   ]
  }
 ],
 "metadata": {
  "kernelspec": {
   "display_name": "gpu",
   "language": "python",
   "name": "python3"
  },
  "language_info": {
   "codemirror_mode": {
    "name": "ipython",
    "version": 3
   },
   "file_extension": ".py",
   "mimetype": "text/x-python",
   "name": "python",
   "nbconvert_exporter": "python",
   "pygments_lexer": "ipython3",
   "version": "3.10.13"
  }
 },
 "nbformat": 4,
 "nbformat_minor": 2
}
