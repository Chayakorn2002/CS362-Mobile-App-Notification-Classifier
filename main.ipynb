{
 "cells": [
  {
   "cell_type": "code",
   "execution_count": 48,
   "metadata": {},
   "outputs": [],
   "source": [
    "import pandas as pd\n",
    "import numpy as np\n",
    "from sklearn.model_selection import train_test_split\n",
    "from sklearn.preprocessing import LabelEncoder\n",
    "import matplotlib.pyplot as plt\n",
    "import re\n",
    "import pythainlp\n",
    "import pickle"
   ]
  },
  {
   "cell_type": "markdown",
   "metadata": {},
   "source": [
    "# Data Cleaning"
   ]
  },
  {
   "cell_type": "code",
   "execution_count": 49,
   "metadata": {},
   "outputs": [
    {
     "name": "stdout",
     "output_type": "stream",
     "text": [
      "Dimension of dataset\n",
      " (1130, 2) \n",
      "\n",
      "     label                                            content\n",
      "0      ham  คนขับส่งอาหารเรียบร้อยแล้ว ดูใบเสร็จรับเงิน ขอ...\n",
      "1      ham  หมายเลข: 09116240327514498 อยู่ในสถานะ 'เสร็จส...\n",
      "2      ham  หมายเลข: 09116240327514498 พนักงานกำลังน้ำ สิน...\n",
      "3      ham  7-Delivery: เนื่องจากขณะนี้มีออเดอร์เป็นจำนวนม...\n",
      "4      ham  หมายเลข: 09116240327514498 อยู่ในสถานะ 'จัดของ...\n",
      "...    ...                                                ...\n",
      "1125  spam  เที่ยงคืน แจกอีก5,000.- เก็บด่วน! ช้อปดีลเด็ด ...\n",
      "1126  spam         4.4 มาแล้ว! ลดโหด โค้ด 50% วันนี้วันเดียว!\n",
      "1127  spam                        โค้ดลด 50% 9 โมง » เก็บด่วน\n",
      "1128  spam  Shopee Live! watch cintage.official's live: co...\n",
      "1129  spam                      โค้ดเด็ด! 4.4 ลด 50% ถึงตีสอง\n",
      "\n",
      "[1130 rows x 2 columns]\n"
     ]
    }
   ],
   "source": [
    "noti_dataset = pd.read_csv('mobile_app_notifications.csv')\n",
    "print(\"Dimension of dataset\\n\", noti_dataset.shape, \"\\n\")\n",
    "print(noti_dataset)"
   ]
  },
  {
   "cell_type": "code",
   "execution_count": 50,
   "metadata": {},
   "outputs": [
    {
     "name": "stdout",
     "output_type": "stream",
     "text": [
      "      label                                            content\n",
      "0         0  คนขับส่งอาหารเรียบร้อยแล้ว ดูใบเสร็จรับเงิน ขอ...\n",
      "1         0  หมายเลข: 09116240327514498 อยู่ในสถานะ 'เสร็จส...\n",
      "2         0  หมายเลข: 09116240327514498 พนักงานกำลังน้ำ สิน...\n",
      "3         0  7-Delivery: เนื่องจากขณะนี้มีออเดอร์เป็นจำนวนม...\n",
      "4         0  หมายเลข: 09116240327514498 อยู่ในสถานะ 'จัดของ...\n",
      "...     ...                                                ...\n",
      "1125      1  เที่ยงคืน แจกอีก5,000.- เก็บด่วน! ช้อปดีลเด็ด ...\n",
      "1126      1         4.4 มาแล้ว! ลดโหด โค้ด 50% วันนี้วันเดียว!\n",
      "1127      1                        โค้ดลด 50% 9 โมง » เก็บด่วน\n",
      "1128      1  Shopee Live! watch cintage.official's live: co...\n",
      "1129      1                      โค้ดเด็ด! 4.4 ลด 50% ถึงตีสอง\n",
      "\n",
      "[1130 rows x 2 columns]\n"
     ]
    }
   ],
   "source": [
    "encoder = LabelEncoder() # Encode label to integer (0, 1)\n",
    "noti_dataset['label'] = encoder.fit_transform(noti_dataset['label']) # Encode label to integer \n",
    "print(noti_dataset) # Show dataset after encoding"
   ]
  },
  {
   "cell_type": "code",
   "execution_count": 51,
   "metadata": {},
   "outputs": [
    {
     "data": {
      "text/html": [
       "<div>\n",
       "<style scoped>\n",
       "    .dataframe tbody tr th:only-of-type {\n",
       "        vertical-align: middle;\n",
       "    }\n",
       "\n",
       "    .dataframe tbody tr th {\n",
       "        vertical-align: top;\n",
       "    }\n",
       "\n",
       "    .dataframe thead th {\n",
       "        text-align: right;\n",
       "    }\n",
       "</style>\n",
       "<table border=\"1\" class=\"dataframe\">\n",
       "  <thead>\n",
       "    <tr style=\"text-align: right;\">\n",
       "      <th></th>\n",
       "      <th>label</th>\n",
       "      <th>content</th>\n",
       "    </tr>\n",
       "  </thead>\n",
       "  <tbody>\n",
       "    <tr>\n",
       "      <th>0</th>\n",
       "      <td>0</td>\n",
       "      <td>คนขับส่งอาหารเรียบร้อยแล้ว ดูใบเสร็จรับเงิน ขอ...</td>\n",
       "    </tr>\n",
       "    <tr>\n",
       "      <th>1</th>\n",
       "      <td>0</td>\n",
       "      <td>หมายเลข: 09116240327514498 อยู่ในสถานะ 'เสร็จส...</td>\n",
       "    </tr>\n",
       "    <tr>\n",
       "      <th>2</th>\n",
       "      <td>0</td>\n",
       "      <td>หมายเลข: 09116240327514498 พนักงานกำลังน้ำ สิน...</td>\n",
       "    </tr>\n",
       "    <tr>\n",
       "      <th>3</th>\n",
       "      <td>0</td>\n",
       "      <td>7-Delivery: เนื่องจากขณะนี้มีออเดอร์เป็นจำนวนม...</td>\n",
       "    </tr>\n",
       "    <tr>\n",
       "      <th>4</th>\n",
       "      <td>0</td>\n",
       "      <td>หมายเลข: 09116240327514498 อยู่ในสถานะ 'จัดของ...</td>\n",
       "    </tr>\n",
       "    <tr>\n",
       "      <th>...</th>\n",
       "      <td>...</td>\n",
       "      <td>...</td>\n",
       "    </tr>\n",
       "    <tr>\n",
       "      <th>1125</th>\n",
       "      <td>1</td>\n",
       "      <td>เที่ยงคืน แจกอีก5,000.- เก็บด่วน! ช้อปดีลเด็ด ...</td>\n",
       "    </tr>\n",
       "    <tr>\n",
       "      <th>1126</th>\n",
       "      <td>1</td>\n",
       "      <td>4.4 มาแล้ว! ลดโหด โค้ด 50% วันนี้วันเดียว!</td>\n",
       "    </tr>\n",
       "    <tr>\n",
       "      <th>1127</th>\n",
       "      <td>1</td>\n",
       "      <td>โค้ดลด 50% 9 โมง » เก็บด่วน</td>\n",
       "    </tr>\n",
       "    <tr>\n",
       "      <th>1128</th>\n",
       "      <td>1</td>\n",
       "      <td>Shopee Live! watch cintage.official's live: co...</td>\n",
       "    </tr>\n",
       "    <tr>\n",
       "      <th>1129</th>\n",
       "      <td>1</td>\n",
       "      <td>โค้ดเด็ด! 4.4 ลด 50% ถึงตีสอง</td>\n",
       "    </tr>\n",
       "  </tbody>\n",
       "</table>\n",
       "<p>1130 rows × 2 columns</p>\n",
       "</div>"
      ],
      "text/plain": [
       "      label                                            content\n",
       "0         0  คนขับส่งอาหารเรียบร้อยแล้ว ดูใบเสร็จรับเงิน ขอ...\n",
       "1         0  หมายเลข: 09116240327514498 อยู่ในสถานะ 'เสร็จส...\n",
       "2         0  หมายเลข: 09116240327514498 พนักงานกำลังน้ำ สิน...\n",
       "3         0  7-Delivery: เนื่องจากขณะนี้มีออเดอร์เป็นจำนวนม...\n",
       "4         0  หมายเลข: 09116240327514498 อยู่ในสถานะ 'จัดของ...\n",
       "...     ...                                                ...\n",
       "1125      1  เที่ยงคืน แจกอีก5,000.- เก็บด่วน! ช้อปดีลเด็ด ...\n",
       "1126      1         4.4 มาแล้ว! ลดโหด โค้ด 50% วันนี้วันเดียว!\n",
       "1127      1                        โค้ดลด 50% 9 โมง » เก็บด่วน\n",
       "1128      1  Shopee Live! watch cintage.official's live: co...\n",
       "1129      1                      โค้ดเด็ด! 4.4 ลด 50% ถึงตีสอง\n",
       "\n",
       "[1130 rows x 2 columns]"
      ]
     },
     "execution_count": 51,
     "metadata": {},
     "output_type": "execute_result"
    }
   ],
   "source": [
    "noti_dataset"
   ]
  },
  {
   "cell_type": "code",
   "execution_count": 52,
   "metadata": {},
   "outputs": [
    {
     "name": "stdout",
     "output_type": "stream",
     "text": [
      "missing values : \n",
      " label      0\n",
      "content    0\n",
      "dtype: int64 \n",
      "\n",
      "duplicated values:  74\n"
     ]
    }
   ],
   "source": [
    "print(\"missing values : \\n\", noti_dataset.isnull().sum(), \"\\n\") # check missing values\n",
    "print(\"duplicated values: \", noti_dataset.duplicated().sum()) # check duplicated values"
   ]
  },
  {
   "cell_type": "code",
   "execution_count": 53,
   "metadata": {},
   "outputs": [
    {
     "name": "stdout",
     "output_type": "stream",
     "text": [
      "duplicated values:  0\n",
      "Dimension of dataset:  (1056, 2) \n",
      "\n"
     ]
    },
    {
     "data": {
      "text/html": [
       "<div>\n",
       "<style scoped>\n",
       "    .dataframe tbody tr th:only-of-type {\n",
       "        vertical-align: middle;\n",
       "    }\n",
       "\n",
       "    .dataframe tbody tr th {\n",
       "        vertical-align: top;\n",
       "    }\n",
       "\n",
       "    .dataframe thead th {\n",
       "        text-align: right;\n",
       "    }\n",
       "</style>\n",
       "<table border=\"1\" class=\"dataframe\">\n",
       "  <thead>\n",
       "    <tr style=\"text-align: right;\">\n",
       "      <th></th>\n",
       "      <th>label</th>\n",
       "      <th>content</th>\n",
       "    </tr>\n",
       "  </thead>\n",
       "  <tbody>\n",
       "    <tr>\n",
       "      <th>0</th>\n",
       "      <td>0</td>\n",
       "      <td>คนขับส่งอาหารเรียบร้อยแล้ว ดูใบเสร็จรับเงิน ขอ...</td>\n",
       "    </tr>\n",
       "    <tr>\n",
       "      <th>1</th>\n",
       "      <td>0</td>\n",
       "      <td>หมายเลข: 09116240327514498 อยู่ในสถานะ 'เสร็จส...</td>\n",
       "    </tr>\n",
       "    <tr>\n",
       "      <th>2</th>\n",
       "      <td>0</td>\n",
       "      <td>หมายเลข: 09116240327514498 พนักงานกำลังน้ำ สิน...</td>\n",
       "    </tr>\n",
       "    <tr>\n",
       "      <th>3</th>\n",
       "      <td>0</td>\n",
       "      <td>7-Delivery: เนื่องจากขณะนี้มีออเดอร์เป็นจำนวนม...</td>\n",
       "    </tr>\n",
       "    <tr>\n",
       "      <th>4</th>\n",
       "      <td>0</td>\n",
       "      <td>หมายเลข: 09116240327514498 อยู่ในสถานะ 'จัดของ...</td>\n",
       "    </tr>\n",
       "    <tr>\n",
       "      <th>...</th>\n",
       "      <td>...</td>\n",
       "      <td>...</td>\n",
       "    </tr>\n",
       "    <tr>\n",
       "      <th>1051</th>\n",
       "      <td>1</td>\n",
       "      <td>เที่ยงคืน แจกอีก5,000.- เก็บด่วน! ช้อปดีลเด็ด ...</td>\n",
       "    </tr>\n",
       "    <tr>\n",
       "      <th>1052</th>\n",
       "      <td>1</td>\n",
       "      <td>4.4 มาแล้ว! ลดโหด โค้ด 50% วันนี้วันเดียว!</td>\n",
       "    </tr>\n",
       "    <tr>\n",
       "      <th>1053</th>\n",
       "      <td>1</td>\n",
       "      <td>โค้ดลด 50% 9 โมง » เก็บด่วน</td>\n",
       "    </tr>\n",
       "    <tr>\n",
       "      <th>1054</th>\n",
       "      <td>1</td>\n",
       "      <td>Shopee Live! watch cintage.official's live: co...</td>\n",
       "    </tr>\n",
       "    <tr>\n",
       "      <th>1055</th>\n",
       "      <td>1</td>\n",
       "      <td>โค้ดเด็ด! 4.4 ลด 50% ถึงตีสอง</td>\n",
       "    </tr>\n",
       "  </tbody>\n",
       "</table>\n",
       "<p>1056 rows × 2 columns</p>\n",
       "</div>"
      ],
      "text/plain": [
       "      label                                            content\n",
       "0         0  คนขับส่งอาหารเรียบร้อยแล้ว ดูใบเสร็จรับเงิน ขอ...\n",
       "1         0  หมายเลข: 09116240327514498 อยู่ในสถานะ 'เสร็จส...\n",
       "2         0  หมายเลข: 09116240327514498 พนักงานกำลังน้ำ สิน...\n",
       "3         0  7-Delivery: เนื่องจากขณะนี้มีออเดอร์เป็นจำนวนม...\n",
       "4         0  หมายเลข: 09116240327514498 อยู่ในสถานะ 'จัดของ...\n",
       "...     ...                                                ...\n",
       "1051      1  เที่ยงคืน แจกอีก5,000.- เก็บด่วน! ช้อปดีลเด็ด ...\n",
       "1052      1         4.4 มาแล้ว! ลดโหด โค้ด 50% วันนี้วันเดียว!\n",
       "1053      1                        โค้ดลด 50% 9 โมง » เก็บด่วน\n",
       "1054      1  Shopee Live! watch cintage.official's live: co...\n",
       "1055      1                      โค้ดเด็ด! 4.4 ลด 50% ถึงตีสอง\n",
       "\n",
       "[1056 rows x 2 columns]"
      ]
     },
     "execution_count": 53,
     "metadata": {},
     "output_type": "execute_result"
    }
   ],
   "source": [
    "noti_dataset = noti_dataset.drop_duplicates(keep=\"first\")\n",
    "noti_dataset = noti_dataset.reset_index(drop=True)\n",
    "print(\"duplicated values: \", noti_dataset.duplicated().sum())\n",
    "print(\"Dimension of dataset: \", noti_dataset.shape, \"\\n\")\n",
    "noti_dataset"
   ]
  },
  {
   "cell_type": "markdown",
   "metadata": {},
   "source": [
    "# Analysis"
   ]
  },
  {
   "cell_type": "code",
   "execution_count": 54,
   "metadata": {},
   "outputs": [
    {
     "name": "stdout",
     "output_type": "stream",
     "text": [
      "Distribution of the dataset\n",
      " label\n",
      "1    0.74053\n",
      "0    0.25947\n",
      "Name: proportion, dtype: float64\n"
     ]
    }
   ],
   "source": [
    "print(\"Distribution of the dataset\\n\", noti_dataset['label'].value_counts(normalize=True))"
   ]
  },
  {
   "cell_type": "code",
   "execution_count": 55,
   "metadata": {},
   "outputs": [
    {
     "data": {
      "image/png": "[encoded data removed]",
      "text/plain": [
       "<Figure size 640x480 with 1 Axes>"
      ]
     },
     "metadata": {},
     "output_type": "display_data"
    }
   ],
   "source": [
    "plt.pie(noti_dataset['label'].value_counts(), labels=['spam','ham'],autopct=\"%0.2f\")\n",
    "plt.show()"
   ]
  },
  {
   "cell_type": "markdown",
   "metadata": {},
   "source": [
    "# Data Preprocessing"
   ]
  },
  {
   "cell_type": "code",
   "execution_count": 56,
   "metadata": {},
   "outputs": [],
   "source": [
    "def removeAcronym(string: str, mapping_file: str) -> str:\n",
    "    # Read mappings from the mapping file\n",
    "    mappings = {}\n",
    "    with open(mapping_file, 'r', encoding='utf-8') as f:\n",
    "        for line in f:\n",
    "            key, value = line.strip().split(',')\n",
    "            mappings[key] = value\n",
    "    \n",
    "    # Tokenize the string\n",
    "    tokens = pythainlp.word_tokenize(string)\n",
    "    \n",
    "    # Swap strings based on mappings\n",
    "    for i, token in enumerate(tokens):\n",
    "        if token.lower() in mappings:\n",
    "            tokens[i] = mappings[token.lower()]\n",
    "        # Extra case for มีนาคม\n",
    "        if token == \"มี\" and tokens[i+1] == \".\" and tokens[i+2] == \"ค\" and tokens[i+3] == \".\":\n",
    "            tokens[i] = \"มีนาคม\"\n",
    "            for j in range(3):\n",
    "                tokens.pop(i+1)\n",
    "    \n",
    "    modified_text = ''.join(tokens)\n",
    "    return modified_text\n",
    "\n",
    "monthList = ['มกราคม', 'กุมภาพันธ์', 'มีนาคม', 'เมษายน', 'พฤษภาคม', 'มิถุนายน', 'กรกฎาคม', 'สิงหาคม', 'กันยายน', 'ตุลาคม', 'พฤศจิกายน', 'ธันวาคม']\n",
    "\n",
    "def dateSubstitute(string: str) -> str:\n",
    "    tokens = pythainlp.word_tokenize(string)\n",
    "    i = 0\n",
    "    while i < len(tokens):\n",
    "        if tokens[i].isdigit() and i + 2 < len(tokens) and tokens[i + 2] in monthList:\n",
    "            tokens[i] = \"date\"\n",
    "            if i + 4 < len(tokens):\n",
    "                tokens.pop(i + 4)\n",
    "            tokens.pop(i + 2)\n",
    "        i += 1\n",
    "    modified_text = ''.join(tokens)\n",
    "    return modified_text\n",
    "\n",
    "custom_stopwords_list = [\"ส่ง\", \"ให้\", \"อยู่\", \"ได้รับ\"]\n",
    "\n",
    "def removeStopWord(string: str) -> str:\n",
    "    tokens = pythainlp.word_tokenize(string)\n",
    "    thai_stopwords = pythainlp.corpus.thai_stopwords()\n",
    "    custom_stopwords = [word for word in thai_stopwords if word not in custom_stopwords_list]\n",
    "    \n",
    "    filtered_tokens = [token for token in tokens if token not in custom_stopwords]\n",
    "    modified_text = ''.join(filtered_tokens)\n",
    "    return modified_text"
   ]
  },
  {
   "cell_type": "code",
   "execution_count": 57,
   "metadata": {},
   "outputs": [
    {
     "name": "stdout",
     "output_type": "stream",
     "text": [
      "Original sample:  โค้ดพิเศษ สำหรับคุณ! ลดเพิ่ม 250.- สำหรับลูกค้าใหม่ Ray-Ban TH Official Store © เมื่อช้อปในวันที่ 3 เม.ย. 67 นี้ วันเดียวเท่านั้น! ใช้โค้ดเลย\n",
      "Transformed sample:  โค้ดพิเศษสำหรับลด250สำหรับลูกค้าraybanthofficialstoreช้อปวันที่dateโค้ด\n"
     ]
    }
   ],
   "source": [
    "def transformContent(string: str) -> str:\n",
    "    cleanedString = removeAcronym(string, 'acronyms.txt') # Remove acronym\n",
    "    cleanedString = dateSubstitute(cleanedString) # Date Substitution\n",
    "    cleanedString = re.sub(r'[^\\u0E00-\\u0E7F\\w]', '', cleanedString) # Remove non-Thai / alphanumeric characters using unicode range\n",
    "    cleanedString = cleanedString.lower()\n",
    "    cleanedString = removeStopWord(cleanedString) # Remove stop words\n",
    "    return cleanedString    \n",
    "\n",
    "sample = \"โค้ดพิเศษ สำหรับคุณ! ลดเพิ่ม 250.- สำหรับลูกค้าใหม่ Ray-Ban TH Official Store © เมื่อช้อปในวันที่ 3 เม.ย. 67 นี้ วันเดียวเท่านั้น! ใช้โค้ดเลย\"\n",
    "\n",
    "print(\"Original sample: \", sample)\n",
    "print(\"Transformed sample: \", transformContent(sample))"
   ]
  },
  {
   "cell_type": "code",
   "execution_count": 58,
   "metadata": {},
   "outputs": [
    {
     "data": {
      "text/html": [
       "<div>\n",
       "<style scoped>\n",
       "    .dataframe tbody tr th:only-of-type {\n",
       "        vertical-align: middle;\n",
       "    }\n",
       "\n",
       "    .dataframe tbody tr th {\n",
       "        vertical-align: top;\n",
       "    }\n",
       "\n",
       "    .dataframe thead th {\n",
       "        text-align: right;\n",
       "    }\n",
       "</style>\n",
       "<table border=\"1\" class=\"dataframe\">\n",
       "  <thead>\n",
       "    <tr style=\"text-align: right;\">\n",
       "      <th></th>\n",
       "      <th>label</th>\n",
       "      <th>content</th>\n",
       "      <th>transformed_content</th>\n",
       "    </tr>\n",
       "  </thead>\n",
       "  <tbody>\n",
       "    <tr>\n",
       "      <th>0</th>\n",
       "      <td>0</td>\n",
       "      <td>คนขับส่งอาหารเรียบร้อยแล้ว ดูใบเสร็จรับเงิน ขอ...</td>\n",
       "      <td>คนขับส่งอาหารเรียบร้อยดูใบเสร็จรับเงินหมายเลขส...</td>\n",
       "    </tr>\n",
       "    <tr>\n",
       "      <th>1</th>\n",
       "      <td>0</td>\n",
       "      <td>หมายเลข: 09116240327514498 อยู่ในสถานะ 'เสร็จส...</td>\n",
       "      <td>หมายเลข09116240327514498อยู่สถานะสมบูรณ์date15...</td>\n",
       "    </tr>\n",
       "    <tr>\n",
       "      <th>2</th>\n",
       "      <td>0</td>\n",
       "      <td>หมายเลข: 09116240327514498 พนักงานกำลังน้ำ สิน...</td>\n",
       "      <td>หมายเลข09116240327514498พนักงานน้ำสินค้าส่งกรุ...</td>\n",
       "    </tr>\n",
       "    <tr>\n",
       "      <th>3</th>\n",
       "      <td>0</td>\n",
       "      <td>7-Delivery: เนื่องจากขณะนี้มีออเดอร์เป็นจำนวนม...</td>\n",
       "      <td>7deliveryออเดอร์จำนวนมากพนักงานดำเนินการจัดส่ง...</td>\n",
       "    </tr>\n",
       "    <tr>\n",
       "      <th>4</th>\n",
       "      <td>0</td>\n",
       "      <td>หมายเลข: 09116240327514498 อยู่ในสถานะ 'จัดของ...</td>\n",
       "      <td>หมายเลข09116240327514498อยู่สถานะdate1428นาฬิกา</td>\n",
       "    </tr>\n",
       "    <tr>\n",
       "      <th>...</th>\n",
       "      <td>...</td>\n",
       "      <td>...</td>\n",
       "      <td>...</td>\n",
       "    </tr>\n",
       "    <tr>\n",
       "      <th>1051</th>\n",
       "      <td>1</td>\n",
       "      <td>เที่ยงคืน แจกอีก5,000.- เก็บด่วน! ช้อปดีลเด็ด ...</td>\n",
       "      <td>เที่ยงคืนแจก5000ด่วนช้อปดีลเด็ด44จำกัดเวลาตี2</td>\n",
       "    </tr>\n",
       "    <tr>\n",
       "      <th>1052</th>\n",
       "      <td>1</td>\n",
       "      <td>4.4 มาแล้ว! ลดโหด โค้ด 50% วันนี้วันเดียว!</td>\n",
       "      <td>44ลดโหดโค้ด50</td>\n",
       "    </tr>\n",
       "    <tr>\n",
       "      <th>1053</th>\n",
       "      <td>1</td>\n",
       "      <td>โค้ดลด 50% 9 โมง » เก็บด่วน</td>\n",
       "      <td>โค้ดลด509โมงด่วน</td>\n",
       "    </tr>\n",
       "    <tr>\n",
       "      <th>1054</th>\n",
       "      <td>1</td>\n",
       "      <td>Shopee Live! watch cintage.official's live: co...</td>\n",
       "      <td>shopeelivewatchcintageofficialslivecode50200บา...</td>\n",
       "    </tr>\n",
       "    <tr>\n",
       "      <th>1055</th>\n",
       "      <td>1</td>\n",
       "      <td>โค้ดเด็ด! 4.4 ลด 50% ถึงตีสอง</td>\n",
       "      <td>โค้ดเด็ด44ลด50ตีสอง</td>\n",
       "    </tr>\n",
       "  </tbody>\n",
       "</table>\n",
       "<p>1056 rows × 3 columns</p>\n",
       "</div>"
      ],
      "text/plain": [
       "      label                                            content  \\\n",
       "0         0  คนขับส่งอาหารเรียบร้อยแล้ว ดูใบเสร็จรับเงิน ขอ...   \n",
       "1         0  หมายเลข: 09116240327514498 อยู่ในสถานะ 'เสร็จส...   \n",
       "2         0  หมายเลข: 09116240327514498 พนักงานกำลังน้ำ สิน...   \n",
       "3         0  7-Delivery: เนื่องจากขณะนี้มีออเดอร์เป็นจำนวนม...   \n",
       "4         0  หมายเลข: 09116240327514498 อยู่ในสถานะ 'จัดของ...   \n",
       "...     ...                                                ...   \n",
       "1051      1  เที่ยงคืน แจกอีก5,000.- เก็บด่วน! ช้อปดีลเด็ด ...   \n",
       "1052      1         4.4 มาแล้ว! ลดโหด โค้ด 50% วันนี้วันเดียว!   \n",
       "1053      1                        โค้ดลด 50% 9 โมง » เก็บด่วน   \n",
       "1054      1  Shopee Live! watch cintage.official's live: co...   \n",
       "1055      1                      โค้ดเด็ด! 4.4 ลด 50% ถึงตีสอง   \n",
       "\n",
       "                                    transformed_content  \n",
       "0     คนขับส่งอาหารเรียบร้อยดูใบเสร็จรับเงินหมายเลขส...  \n",
       "1     หมายเลข09116240327514498อยู่สถานะสมบูรณ์date15...  \n",
       "2     หมายเลข09116240327514498พนักงานน้ำสินค้าส่งกรุ...  \n",
       "3     7deliveryออเดอร์จำนวนมากพนักงานดำเนินการจัดส่ง...  \n",
       "4       หมายเลข09116240327514498อยู่สถานะdate1428นาฬิกา  \n",
       "...                                                 ...  \n",
       "1051      เที่ยงคืนแจก5000ด่วนช้อปดีลเด็ด44จำกัดเวลาตี2  \n",
       "1052                                      44ลดโหดโค้ด50  \n",
       "1053                                   โค้ดลด509โมงด่วน  \n",
       "1054  shopeelivewatchcintageofficialslivecode50200บา...  \n",
       "1055                                โค้ดเด็ด44ลด50ตีสอง  \n",
       "\n",
       "[1056 rows x 3 columns]"
      ]
     },
     "execution_count": 58,
     "metadata": {},
     "output_type": "execute_result"
    }
   ],
   "source": [
    "noti_dataset['transformed_content'] = noti_dataset['content'].apply(transformContent)\n",
    "noti_dataset"
   ]
  },
  {
   "cell_type": "markdown",
   "metadata": {},
   "source": [
    "# Model Building"
   ]
  },
  {
   "cell_type": "code",
   "execution_count": 59,
   "metadata": {},
   "outputs": [],
   "source": [
    "class MultinomialNaiveBayes:\n",
    "    def __init__(self):\n",
    "        self.class_prior = None # P(y)\n",
    "        self.feature_prob = None # P(x|y)\n",
    "        self.classes = None # Unique classes\n",
    "    \n",
    "    def fit(self, X, y):\n",
    "        \"\"\"\n",
    "        Prior : P(y) = count(y) / count(Y) [ Y = all samples, y = specific class ]\n",
    "        Likelihood : P(x|y) = count(x, y) + 1 / count(y) + |X| [ X = all features, x = specific feature ]\n",
    "        \"\"\"\n",
    "        self.classes = np.unique(y)\n",
    "        self.class_prior = np.zeros(len(self.classes)) \n",
    "        self.feature_prob = np.zeros((len(self.classes), X.shape[1])) # \n",
    "\n",
    "        for i, c in enumerate(self.classes): #  \n",
    "            X_c = X[y == c] # Get samples with class c\n",
    "            self.class_prior[i] = X_c.shape[0] / X.shape[0] # P(y) = count(y) / count(Y)\n",
    "            self.feature_prob[i] = (np.sum(X_c, axis=0) + 1) / (np.sum(X_c) + X.shape[1]) # P(x|y) = count(x, y) + 1 / count(y) + |X|\n",
    "\n",
    "    def predict_proba(self, X):\n",
    "        \"\"\"\n",
    "        Calculate the posterior probability for each class given the input features X.\n",
    "        \n",
    "        Parameters:\n",
    "        - X: Input features, shape (n_samples, n_features)\n",
    "        \n",
    "        Returns:\n",
    "        - posterior probabilities: Probability of each class for each sample in X, shape (n_classes, n_samples)\n",
    "        \"\"\"\n",
    "        # Compute the logarithm of the likelihood of each feature given each class, then transpose the result\n",
    "        log_likelihood = np.log(self.feature_prob + 1e-9) @ X.T  # log(P(x|y)) * X (dot product [ @ : matrix multiplication ])\n",
    "        \n",
    "        # Add the logarithm of the prior probability of each class to the likelihood\n",
    "        log_likelihood += np.log(self.class_prior.reshape(-1, 1))\n",
    "        \n",
    "        # Normalize the log-likelihoods by subtracting the maximum log-likelihood value to avoid numerical instability\n",
    "        log_likelihood -= np.max(log_likelihood, axis=0)\n",
    "        \n",
    "        # Exponentiate the normalized log-likelihoods to get the likelihoods \n",
    "        likelihood = np.exp(log_likelihood)\n",
    "        return likelihood / np.sum(likelihood, axis=0) # Normalize the likelihoods to get the posterior probabilities\n",
    "\n",
    "\n",
    "    def predict(self, X):\n",
    "        \"\"\"\n",
    "        Predict the class with the highest probability by finding the argmax of the posterior probability.\n",
    "        \"\"\"\n",
    "        return np.argmax(self.predict_proba(X), axis=0)\n",
    "    \n",
    "    def accuracy_score(self, y_true, y_pred):\n",
    "        correct_predictions = np.sum(y_true == y_pred)\n",
    "        total_samples = len(y_true)\n",
    "        accuracy = correct_predictions / total_samples\n",
    "        return accuracy\n",
    "    \n",
    "    def precision_score(self, y_true, y_pred, pos_label=0):\n",
    "        true_positives = np.sum((y_true == pos_label) & (y_pred == pos_label))\n",
    "        predicted_positives = np.sum(y_pred == pos_label)\n",
    "        precision = true_positives / predicted_positives if predicted_positives > 0 else 0\n",
    "        return precision"
   ]
  },
  {
   "cell_type": "code",
   "execution_count": 60,
   "metadata": {},
   "outputs": [
    {
     "data": {
      "text/plain": [
       "((844, 2000), (212, 2000), (844,), (212,))"
      ]
     },
     "execution_count": 60,
     "metadata": {},
     "output_type": "execute_result"
    }
   ],
   "source": [
    "from sklearn.model_selection import train_test_split\n",
    "from sklearn.naive_bayes import MultinomialNB\n",
    "from sklearn.metrics import accuracy_score, confusion_matrix, precision_score\n",
    "from sklearn.feature_extraction.text import TfidfVectorizer\n",
    "\n",
    "tfidf = TfidfVectorizer(max_features=2000)\n",
    "X = tfidf.fit_transform(noti_dataset['transformed_content']).toarray()\n",
    "y = noti_dataset['label'].values\n",
    "\n",
    "X_train, X_test, y_train, y_test = train_test_split(X, y, test_size=0.2, random_state=2)\n",
    "X_train.shape, X_test.shape, y_train.shape, y_test.shape"
   ]
  },
  {
   "cell_type": "code",
   "execution_count": 61,
   "metadata": {},
   "outputs": [],
   "source": [
    "h = MultinomialNaiveBayes()\n",
    "h.fit(X_train, y_train)"
   ]
  },
  {
   "cell_type": "code",
   "execution_count": 62,
   "metadata": {},
   "outputs": [
    {
     "name": "stdout",
     "output_type": "stream",
     "text": [
      "Predicted classes: [1 1 1 1 1 1 1 1 1 1 0 1 1 1 1 1 1 1 1 0 1 1 1 1 1 1 1 1 1 1 1 1 1 1 1 1 1\n",
      " 1 1 1 1 1 1 1 1 1 0 0 0 1 0 0 1 1 1 0 1 1 0 1 1 1 1 0 1 1 1 1 0 0 1 0 1 1\n",
      " 1 1 0 1 1 0 0 1 1 1 1 0 1 1 1 1 1 1 0 0 1 1 1 1 1 1 1 0 1 0 1 0 1 1 0 1 1\n",
      " 1 1 0 0 1 1 1 1 0 1 1 1 1 1 1 1 1 1 1 1 1 1 1 1 1 1 1 1 1 1 1 1 0 1 1 1 0\n",
      " 1 1 0 0 1 1 1 1 1 1 0 1 1 1 1 1 1 1 1 0 1 1 1 1 0 1 0 0 1 0 0 1 1 1 1 1 1\n",
      " 1 0 1 1 1 1 1 1 1 1 0 1 1 1 1 0 1 0 1 1 1 1 1 1 1 1 0]\n"
     ]
    }
   ],
   "source": [
    "predictions = h.predict(X_test)\n",
    "print(\"Predicted classes:\", predictions)"
   ]
  },
  {
   "cell_type": "code",
   "execution_count": 63,
   "metadata": {},
   "outputs": [
    {
     "name": "stdout",
     "output_type": "stream",
     "text": [
      "Accuracy score: 0.9339622641509434\n",
      "Precision score: 0.9176470588235294\n"
     ]
    }
   ],
   "source": [
    "# Calculate accuracy score\n",
    "accuracy = accuracy_score(y_test, predictions)\n",
    "print(\"Accuracy score:\", accuracy)\n",
    "\n",
    "# Calculate precision score\n",
    "precision_score = precision_score(y_test, predictions)\n",
    "print(\"Precision score:\", precision_score) "
   ]
  },
  {
   "cell_type": "code",
   "execution_count": 64,
   "metadata": {},
   "outputs": [],
   "source": [
    "import pickle\n",
    "pickle.dump(tfidf, open('tfidf.pkl','wb'))\n",
    "pickle.dump(h, open('model.pkl','wb'))"
   ]
  },
  {
   "cell_type": "code",
   "execution_count": 65,
   "metadata": {},
   "outputs": [],
   "source": [
    "import pickle\n",
    "tfidf = pickle.load(open('tfidf.pkl','rb'))\n",
    "model = pickle.load(open('model.pkl','rb'))"
   ]
  },
  {
   "cell_type": "code",
   "execution_count": 66,
   "metadata": {},
   "outputs": [
    {
     "data": {
      "text/plain": [
       "array([0])"
      ]
     },
     "execution_count": 66,
     "metadata": {},
     "output_type": "execute_result"
    }
   ],
   "source": [
    "test1 = \"ให้คะแนนความอร่อยร้านนี้กัน คำสั่งซื้อ 240403-JJ-5443 เสร็จสมบูรณ์แล้ว กรุณาให้คะแนนความพึงพอใจร้านนี้\"\n",
    "test2 = \"ใบเสร็จรับเงิน (E-Receipt) คนขับส่งอาหารเรียบร้อยแล้ว ดูใบเสร็จรับเงิน ของหมายเลขคำสั่งซื้อ 240403-JJ-5443\"\n",
    "test3 = \"สถานะคำสั่งซื้อ คำสั่งซื้อ 240403-JJ-5443 ยอด 398.36 บาท ชำระเงินสำเร็จแล้ว หากคำสั่งซื้อไม่ สมบูรณ์ คุณจะได้รับเงินคืนโดยเร็ว \"\n",
    "test4 = \"เริ่มหิวแล้ว มาสั่งของอร่อยกัน! ค่าส่งแค่ 5 กม. 5 บาท* กดสั่งจากร้านแถบ สีชมพูได้เลย ตลอดเดือนนี้ รีบกดสั่งด่วน!\"\n",
    "test5 = \"4.4 อย่าพลาดโปรส่งของด่วน ลดสูง... ใส่โค้ด EXP44 ลดสูงสุด 44.-* x4 ครั้ง ไม่มี ขั้นต่ำ ส่งของเร็ว ถูกใจทั้งผู้รับ ผู้ส่ง เรียกส่งของเลย!\"\n",
    "test6 = \"พัสดุของคุณไม่มีค่าจัดส่ง แจกคูปองส่งฟรีสองใบ คลิก\"\n",
    "test7 = \"จ๊าบของแท้ โค้ด 800MALL ลดเลย 800.-\"\n",
    "test8 = \"เก็บโค้ดด่วน! 4.4 ส่งฟรี* ทั้งแอป\"\n",
    "test9 = \"ไป 7-Eleven อย่าลืมยืนยันตัวตน เพียงแสดงบัตรประชาชนและบาร์โค้ด รับฟรีถึง 50.- ที่ภารกิจทรูมันนี่ คลิก\"\n",
    "test10 = \"เริ่มเลอ! 4.4 แจกโค้ด ลด รวมไอเทมเด็ด พร้อมโค้ดลดสูงสุด 160.-* รีบช้อปด่วน\"\n",
    "transformedString = transformContent(test1)\n",
    "vector_input = tfidf.transform([transformedString])\n",
    "result = model.predict(vector_input)\n",
    "result"
   ]
  }
 ],
 "metadata": {
  "kernelspec": {
   "display_name": "gpu",
   "language": "python",
   "name": "python3"
  },
  "language_info": {
   "codemirror_mode": {
    "name": "ipython",
    "version": 3
   },
   "file_extension": ".py",
   "mimetype": "text/x-python",
   "name": "python",
   "nbconvert_exporter": "python",
   "pygments_lexer": "ipython3",
   "version": "3.10.13"
  }
 },
 "nbformat": 4,
 "nbformat_minor": 2
}
